{
 "cells": [
  {
   "cell_type": "code",
   "execution_count": 29,
   "metadata": {},
   "outputs": [],
   "source": [
    "import numpy as np\n",
    "import pandas as pd\n",
    "import datetime\n",
    "import time\n",
    "import json\n",
    "import os\n",
    "from sklearn.preprocessing import MinMaxScaler"
   ]
  },
  {
   "cell_type": "code",
   "execution_count": 30,
   "metadata": {},
   "outputs": [],
   "source": [
    "def getEveryDay(begin_date,end_date):\n",
    "    date_list = []\n",
    "    begin_date = datetime.datetime.strptime(begin_date, \"%Y-%m-%d\")\n",
    "    end_date = datetime.datetime.strptime(end_date,\"%Y-%m-%d\")\n",
    "    while begin_date <= end_date:\n",
    "        date_str = begin_date.strftime(\"%Y-%m-%d\")\n",
    "        date_list.append(date_str)\n",
    "        begin_date += datetime.timedelta(days=1)\n",
    "    return date_list, len(date_list)"
   ]
  },
  {
   "cell_type": "code",
   "execution_count": 31,
   "metadata": {},
   "outputs": [],
   "source": [
    "training_op, training_ed = '2015-01-01', '2018-12-31'\n",
    "testing_op, testing_ed = '2019-01-01', '2019-12-17'"
   ]
  },
  {
   "cell_type": "code",
   "execution_count": 49,
   "metadata": {},
   "outputs": [],
   "source": [
    "def split(datadir, file):\n",
    "    data = np.load(datadir + file)\n",
    "    scaler = MinMaxScaler().fit(data)\n",
    "    data = scaler.transform(data)\n",
    "    trainig_date, training_len = getEveryDay(training_op,training_ed)\n",
    "    testing_date, testing_len = getEveryDay(testing_op,testing_ed)\n",
    "    traning_data, testing_data = data[:training_len], data[training_len:training_len + testing_len]\n",
    "    np.save(datadir + 'training_' + file, traning_data)\n",
    "    np.save(datadir + 'testing_' + file, testing_data)\n",
    "    print(data.shape, traning_data.shape, testing_data.shape)"
   ]
  },
  {
   "cell_type": "code",
   "execution_count": 52,
   "metadata": {},
   "outputs": [
    {
     "name": "stdout",
     "output_type": "stream",
     "text": [
      "(1813, 4) (1461, 4) (351, 4)\n"
     ]
    },
    {
     "name": "stderr",
     "output_type": "stream",
     "text": [
      "/home/nana/anaconda3/lib/python3.7/site-packages/sklearn/utils/validation.py:475: DataConversionWarning: Data with input dtype int64 was converted to float64 by MinMaxScaler.\n",
      "  warnings.warn(msg, DataConversionWarning)\n"
     ]
    }
   ],
   "source": [
    "dynamic, static = 0, 1\n",
    "\n",
    "# dynamic data split\n",
    "if dynamic == 1:\n",
    "    regions = ['怀柔区', '大兴区', '昌平区', '通州区', '石景山区', '延庆区', '顺义区', '西城区', '平谷区', '宣武区', '东城区', '丰台区', '朝阳区', '门头沟', '崇文区', '房山区', '密云区', '海淀区']\n",
    "    datadir = '../data/spatial/purchase/'\n",
    "    for region in regions:\n",
    "        split(datadir, region + '.npy')\n",
    "# static data split\n",
    "if static == 1:\n",
    "    datadir = '../data/spatial/static/'\n",
    "    file = 'festival_feature.npy'\n",
    "    split(datadir, file)"
   ]
  }
 ],
 "metadata": {
  "kernelspec": {
   "display_name": "Python 3",
   "language": "python",
   "name": "python3"
  },
  "language_info": {
   "codemirror_mode": {
    "name": "ipython",
    "version": 3
   },
   "file_extension": ".py",
   "mimetype": "text/x-python",
   "name": "python",
   "nbconvert_exporter": "python",
   "pygments_lexer": "ipython3",
   "version": "3.7.2"
  }
 },
 "nbformat": 4,
 "nbformat_minor": 2
}
