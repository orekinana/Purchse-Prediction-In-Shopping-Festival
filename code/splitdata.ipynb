{
 "cells": [
  {
   "cell_type": "code",
   "execution_count": 28,
   "metadata": {},
   "outputs": [],
   "source": [
    "import numpy as np\n",
    "import pandas as pd\n",
    "import datetime\n",
    "import time\n",
    "import json\n",
    "import os\n",
    "from sklearn.preprocessing import MinMaxScaler\n",
    "from sklearn.preprocessing import StandardScaler"
   ]
  },
  {
   "cell_type": "code",
   "execution_count": 29,
   "metadata": {},
   "outputs": [],
   "source": [
    "def getEveryDay(begin_date,end_date):\n",
    "    date_list = []\n",
    "    begin_date = datetime.datetime.strptime(begin_date, \"%Y-%m-%d\")\n",
    "    end_date = datetime.datetime.strptime(end_date,\"%Y-%m-%d\")\n",
    "    while begin_date <= end_date:\n",
    "        date_str = begin_date.strftime(\"%Y-%m-%d\")\n",
    "        date_list.append(date_str)\n",
    "        begin_date += datetime.timedelta(days=1)\n",
    "    return date_list, len(date_list)"
   ]
  },
  {
   "cell_type": "code",
   "execution_count": 30,
   "metadata": {},
   "outputs": [],
   "source": [
    "training_op, training_ed = '2015-01-01', '2018-12-31'\n",
    "testing_op, testing_ed = '2019-01-01', '2019-12-17'"
   ]
  },
  {
   "cell_type": "code",
   "execution_count": 31,
   "metadata": {},
   "outputs": [],
   "source": [
    "def split(data, datadir, file): \n",
    "    trainig_date, training_len = getEveryDay(training_op,training_ed)\n",
    "    testing_date, testing_len = getEveryDay(testing_op,testing_ed)\n",
    "    traning_data, testing_data = data[:training_len], data[training_len:training_len + testing_len]\n",
    "    np.save(datadir + 'training_' + file, traning_data)\n",
    "    np.save(datadir + 'testing_' + file, testing_data)\n",
    "    print(data.shape, traning_data.shape, testing_data.shape)"
   ]
  },
  {
   "cell_type": "code",
   "execution_count": 33,
   "metadata": {},
   "outputs": [
    {
     "name": "stderr",
     "output_type": "stream",
     "text": [
      "/home/nana/anaconda3/lib/python3.7/site-packages/sklearn/utils/validation.py:475: DataConversionWarning: Data with input dtype int64 was converted to float64 by MinMaxScaler.\n",
      "  warnings.warn(msg, DataConversionWarning)\n"
     ]
    },
    {
     "name": "stdout",
     "output_type": "stream",
     "text": [
      "(1812, 30) (1461, 30) (351, 30)\n",
      "(1812, 30) (1461, 30) (351, 30)\n",
      "(1812, 30) (1461, 30) (351, 30)\n",
      "(1812, 30) (1461, 30) (351, 30)\n",
      "(1812, 30) (1461, 30) (351, 30)\n",
      "(1812, 30) (1461, 30) (351, 30)\n",
      "(1812, 30) (1461, 30) (351, 30)\n",
      "(1812, 30) (1461, 30) (351, 30)\n",
      "(1812, 30) (1461, 30) (351, 30)\n",
      "(1812, 30) (1461, 30) (351, 30)\n",
      "(1812, 30) (1461, 30) (351, 30)\n",
      "(1812, 30) (1461, 30) (351, 30)\n",
      "(1812, 30) (1461, 30) (351, 30)\n",
      "(1812, 30) (1461, 30) (351, 30)\n",
      "(1812, 30) (1461, 30) (351, 30)\n",
      "(1812, 30) (1461, 30) (351, 30)\n",
      "(1812, 30) (1461, 30) (351, 30)\n",
      "(1812, 30) (1461, 30) (351, 30)\n"
     ]
    }
   ],
   "source": [
    "dynamic, static = 1,0\n",
    "\n",
    "# dynamic data split\n",
    "if dynamic == 1:\n",
    "    regions = ['怀柔区', '大兴区', '昌平区', '通州区', '石景山区', '延庆区', '顺义区', '西城区', '平谷区', '宣武区', '东城区', '丰台区', '朝阳区', '门头沟', '崇文区', '房山区', '密云区', '海淀区']\n",
    "    datadir = '../data/spatial/cart/'\n",
    "    data = []\n",
    "    data_len = 0\n",
    "    for i in range(len(regions)):\n",
    "        if i == 0:\n",
    "            data = np.load(datadir + regions[i] + '.npy')\n",
    "            data_len = data.shape[0]\n",
    "        else:   \n",
    "            data = np.vstack((data,np.load(datadir + regions[i] + '.npy')))\n",
    "    data = MinMaxScaler().fit_transform(data)\n",
    "    for i in range(len(regions)):\n",
    "        split(data[i*data_len:(i+1)*data_len], datadir, regions[i] + '.npy')\n",
    "        \n",
    "# static data split\n",
    "if static == 1:\n",
    "    datadir = '../data/spatial/static/'\n",
    "    file = 'festival_feature.npy'\n",
    "    split(datadir, file)"
   ]
  },
  {
   "cell_type": "code",
   "execution_count": 50,
   "metadata": {},
   "outputs": [
    {
     "data": {
      "text/plain": [
       "array([[5.94247682e-05, 9.77756050e-05, 2.33513917e-05, ...,\n",
       "        0.00000000e+00, 0.00000000e+00, 0.00000000e+00],\n",
       "       [0.00000000e+00, 9.77756050e-05, 2.33513917e-05, ...,\n",
       "        0.00000000e+00, 3.96589332e-05, 5.45613269e-05],\n",
       "       [5.94247682e-05, 4.88878025e-05, 2.33513917e-05, ...,\n",
       "        0.00000000e+00, 0.00000000e+00, 0.00000000e+00],\n",
       "       ...,\n",
       "       [1.87544569e-01, 2.17599609e-01, 1.33102933e-01, ...,\n",
       "        0.00000000e+00, 1.75966686e-01, 1.28710170e-01],\n",
       "       [2.26586641e-01, 2.36519188e-01, 1.56244162e-01, ...,\n",
       "        0.00000000e+00, 1.99206821e-01, 1.42677870e-01],\n",
       "       [2.20168766e-01, 2.26399413e-01, 1.48748365e-01, ...,\n",
       "        5.88235294e-03, 1.98929209e-01, 1.38967700e-01]])"
      ]
     },
     "execution_count": 50,
     "metadata": {},
     "output_type": "execute_result"
    }
   ],
   "source": [
    "np.load('../data/spatial/cart/training_东城区.npy')"
   ]
  },
  {
   "cell_type": "code",
   "execution_count": 38,
   "metadata": {},
   "outputs": [
    {
     "data": {
      "text/plain": [
       "array([[  0,   0, 168,  20],\n",
       "       [  0,   0, 167,  21],\n",
       "       [  0,   0, 166,  22],\n",
       "       ...,\n",
       "       [365,   5, 365,   4],\n",
       "       [365,   4, 365,   5],\n",
       "       [365,   3, 365,   6]])"
      ]
     },
     "execution_count": 38,
     "metadata": {},
     "output_type": "execute_result"
    }
   ],
   "source": [
    "np.load('../data/spatial/static/festival_feature.npy')"
   ]
  },
  {
   "cell_type": "code",
   "execution_count": null,
   "metadata": {},
   "outputs": [],
   "source": []
  }
 ],
 "metadata": {
  "kernelspec": {
   "display_name": "Python 3",
   "language": "python",
   "name": "python3"
  },
  "language_info": {
   "codemirror_mode": {
    "name": "ipython",
    "version": 3
   },
   "file_extension": ".py",
   "mimetype": "text/x-python",
   "name": "python",
   "nbconvert_exporter": "python",
   "pygments_lexer": "ipython3",
   "version": "3.7.6"
  }
 },
 "nbformat": 4,
 "nbformat_minor": 2
}
