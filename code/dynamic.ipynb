{
 "cells": [
  {
   "cell_type": "code",
   "execution_count": 1,
   "metadata": {},
   "outputs": [],
   "source": [
    "import numpy as np\n",
    "import pandas as pd\n",
    "import datetime"
   ]
  },
  {
   "cell_type": "code",
   "execution_count": 2,
   "metadata": {},
   "outputs": [],
   "source": [
    "def getEveryDay(begin_date,end_date):\n",
    "    date_list = []\n",
    "    date_flag = []\n",
    "    begin_date = datetime.datetime.strptime(begin_date, \"%Y-%m-%d\")\n",
    "    end_date = datetime.datetime.strptime(end_date,\"%Y-%m-%d\")\n",
    "    while begin_date <= end_date:\n",
    "        date_str = begin_date.strftime(\"%Y-%m-%d\")\n",
    "        date_list.append(date_str)\n",
    "        if begin_date.strftime(\"%m-%d\") >= '11-01' and begin_date.strftime(\"%m-%d\") <= '11-11' or \\\n",
    "                begin_date.strftime(\"%m-%d\") >= '12-01' and begin_date.strftime(\"%m-%d\") <= '12-12' or \\\n",
    "                   begin_date.strftime(\"%m-%d\") >= '10-01' and begin_date.strftime(\"%m-%d\") <= '10-07' :\n",
    "            date_flag.append(2)\n",
    "        elif begin_date.strftime(\"%w\") == '0' or begin_date.strftime(\"%w\") == '6':\n",
    "            date_flag.append(1)\n",
    "        else:\n",
    "            date_flag.append(0)\n",
    "        begin_date += datetime.timedelta(days=1)\n",
    "    return date_list, date_flag"
   ]
  },
  {
   "cell_type": "code",
   "execution_count": 15,
   "metadata": {},
   "outputs": [],
   "source": [
    "data_dir = '../data/'\n",
    "\n",
    "begin_date, end_date = '2015-01-01', '2019-12-17'\n",
    "begin_year, end_year = 2015, 2019\n",
    "\n",
    "categories_purchase = []\n",
    "categories_cart = []\n",
    "area_purchase = []\n",
    "area_cart = []\n",
    "\n",
    "dates, date_flag = getEveryDay(begin_date, end_date)\n",
    "areas = ['怀柔区', '大兴区', '昌平区', '通州区', '石景山区', '延庆区', '顺义区', '西城区', '平谷区', '宣武区', '东城区', '丰台区', '朝阳区', '门头沟', '崇文区', '房山区', '密云区', '海淀区']   \n",
    "categories = ['厨具', '服饰内衣', '家用电器', '鞋靴', '家装建材', '宠物生活', '电脑、办公', '图书', '家具', '手机通讯', '玩具乐器', '本地生活/旅游出行', '钟表', '酒类', '影视', '医药保健', '农资园艺', '美妆护肤', '整车', '文娱', '礼品', '珠宝首饰', '食品饮料', '家居日用', '汽车用品', '运动户外', '生鲜', '音乐', '母婴', '数码']"
   ]
  },
  {
   "cell_type": "code",
   "execution_count": 14,
   "metadata": {},
   "outputs": [
    {
     "name": "stdout",
     "output_type": "stream",
     "text": [
      "{'家具家装'}\n"
     ]
    }
   ],
   "source": [
    "print(set(categories1)-set(categories))"
   ]
  },
  {
   "cell_type": "code",
   "execution_count": 9,
   "metadata": {},
   "outputs": [
    {
     "name": "stdout",
     "output_type": "stream",
     "text": [
      "['服饰内衣', '汽车用品', '厨具', '玩具乐器', '数码', '整车', '音乐', '母婴', '钟表', '农资园艺', '文娱', '生鲜', '鞋靴', '家装建材', '运动户外', '酒类', '本地生活/旅游出行', '礼品', '电脑、办公', '食品饮料', '宠物生活', '珠宝首饰', '影视', '医药保健', '家用电器', '手机通讯', '美妆护肤', '图书', '家具家装', '家具', '家居日用'] 31\n",
      "['门头沟', '丰台区', '密云区', '石景山区', '崇文区', '延庆区', '东城区', '西城区', '大兴区', '宣武区', '朝阳区', '通州区', '平谷区', '怀柔区', '顺义区', '昌平区', '海淀区', '房山区'] 18\n"
     ]
    }
   ],
   "source": [
    "for year in range(begin_year, end_year+1):\n",
    "    purchase_data = pd.read_csv(data_dir + 'purchase-' + str(year) + '.csv', sep = '\\t', error_bad_lines=False)\n",
    "    # select categoties of products in purchase data\n",
    "    categories = purchase_data.groupby('一级类目').nunique()\n",
    "    categories_purchase.append(set(categories['一级类目'].index.tolist()))\n",
    "    # select all area in purchase data\n",
    "    areas = purchase_data.groupby('市').nunique()\n",
    "    area_purchase.append(set(areas['市'].index.tolist()))\n",
    "\n",
    "    cart_data = pd.read_csv(data_dir + 'shoppingcart-' + str(year) + '.csv', sep = '\\t', error_bad_lines=False)\n",
    "    # select categoties of products in shopping cart data\n",
    "    categories = cart_data.groupby('一级类目').nunique()\n",
    "    categories_cart.append(set(categories['一级类目'].index.tolist()))\n",
    "    # select all area in shopping cart data\n",
    "    areas = cart_data.groupby('市').nunique()\n",
    "    area_cart.append(set(areas['市'].index.tolist()))\n",
    "\n",
    "categories_purchase = categories_purchase[0] & categories_purchase[1] & categories_purchase[2] & categories_purchase[3] & categories_purchase[4]\n",
    "categories_purchase = categories_purchase - set(['\\\\N', '测试分类'])\n",
    "area_purchase = area_purchase[0] & area_purchase[1] & area_purchase[2] & area_purchase[3] & area_purchase[4]\n",
    "\n",
    "categories_cart = categories_cart[0] & categories_cart[1] & categories_cart[2] & categories_cart[3] & categories_cart[4]\n",
    "categories_cart = categories_cart - set(['\\\\N', '测试分类'])\n",
    "area_cart = area_cart[0] & area_cart[1] & area_cart[2] & area_cart[3] & area_cart[4]\n",
    "\n",
    "categories = list(categories_purchase & categories_cart)\n",
    "areas = list(area_purchase & area_cart)\n",
    "\n",
    "print(categories, len(categories))\n",
    "print(areas, len(areas))\n"
   ]
  },
  {
   "cell_type": "code",
   "execution_count": 17,
   "metadata": {},
   "outputs": [
    {
     "name": "stdout",
     "output_type": "stream",
     "text": [
      "228973 108709\n",
      "232995 186203\n",
      "250604 221889\n",
      "263918 265114\n",
      "309433 260485\n",
      "1285923 1042400\n"
     ]
    }
   ],
   "source": [
    "for year in range(begin_year, end_year + 1):\n",
    "    purchase_data = pd.read_csv(data_dir + 'purchase-' + str(year) + '.csv', sep = '\\t', error_bad_lines=False)\n",
    "    purchase_data = purchase_data.drop(['省', '区'], axis=1)\n",
    "    purchase_data['一级类目'] = purchase_data['一级类目'].str.strip()\n",
    "    purchase_data = purchase_data.groupby(['日期', '市', '一级类目']).sum().reset_index()\n",
    "    \n",
    "    cart_data = pd.read_csv(data_dir + 'shoppingcart-' + str(year) + '.csv', sep = '\\t', error_bad_lines=False)\n",
    "    cart_data = cart_data.drop(['省', '区'], axis=1)\n",
    "    cart_data['一级类目'] = cart_data['一级类目'].str.strip()\n",
    "    cart_data = cart_data.groupby(['日期', '市', '一级类目']).sum().reset_index() \n",
    "    print(len(purchase_data), len(cart_data))\n",
    "    \n",
    "    if year == begin_year:\n",
    "        purchase = purchase_data\n",
    "        cart = cart_data\n",
    "    else:\n",
    "        purchase = pd.concat([purchase, purchase_data])\n",
    "        cart = pd.concat([cart, cart_data])\n",
    "print(len(purchase), len(cart))"
   ]
  },
  {
   "cell_type": "code",
   "execution_count": 25,
   "metadata": {},
   "outputs": [],
   "source": [
    "def spatial_partition(purchase_data, cart_data, cate_list, area_flag, date_list):\n",
    "    for area in area_flag:\n",
    "        area_purchase = []\n",
    "        for date in date_list:\n",
    "            date_purchase = []\n",
    "            for cate in cate_list:\n",
    "                entry = purchase_data[(purchase_data['日期'] == date) & (purchase_data['市'] == area) & (purchase_data['一级类目'] == cate)]['数量']\n",
    "                if len(entry) == 0:\n",
    "                    date_purchase.append(0)\n",
    "                else:\n",
    "                    date_purchase.append(int(entry))\n",
    "            area_purchase.append(date_purchase)\n",
    "            print(area, date)\n",
    "        np.save('../data/spatial/purchase/' + area + '.npy', np.array(area_purchase))"
   ]
  },
  {
   "cell_type": "code",
   "execution_count": null,
   "metadata": {},
   "outputs": [
    {
     "name": "stdout",
     "output_type": "stream",
     "text": [
      "怀柔区 2015-01-01\n",
      "怀柔区 2015-01-02\n",
      "怀柔区 2015-01-03\n",
      "怀柔区 2015-01-04\n",
      "怀柔区 2015-01-05\n",
      "怀柔区 2015-01-06\n",
      "怀柔区 2015-01-07\n",
      "怀柔区 2015-01-08\n",
      "怀柔区 2015-01-09\n",
      "怀柔区 2015-01-10\n",
      "怀柔区 2015-01-11\n",
      "怀柔区 2015-01-12\n",
      "怀柔区 2015-01-13\n",
      "怀柔区 2015-01-14\n",
      "怀柔区 2015-01-15\n",
      "怀柔区 2015-01-16\n",
      "怀柔区 2015-01-17\n",
      "怀柔区 2015-01-18\n",
      "怀柔区 2015-01-19\n",
      "怀柔区 2015-01-20\n",
      "怀柔区 2015-01-21\n",
      "怀柔区 2015-01-22\n",
      "怀柔区 2015-01-23\n",
      "怀柔区 2015-01-24\n",
      "怀柔区 2015-01-25\n",
      "怀柔区 2015-01-26\n",
      "怀柔区 2015-01-27\n",
      "怀柔区 2015-01-28\n",
      "怀柔区 2015-01-29\n",
      "怀柔区 2015-01-30\n",
      "怀柔区 2015-01-31\n",
      "怀柔区 2015-02-01\n",
      "怀柔区 2015-02-02\n",
      "怀柔区 2015-02-03\n",
      "怀柔区 2015-02-04\n",
      "怀柔区 2015-02-05\n",
      "怀柔区 2015-02-06\n",
      "怀柔区 2015-02-07\n",
      "怀柔区 2015-02-08\n",
      "怀柔区 2015-02-09\n",
      "怀柔区 2015-02-10\n",
      "怀柔区 2015-02-11\n",
      "怀柔区 2015-02-12\n",
      "怀柔区 2015-02-13\n",
      "怀柔区 2015-02-14\n",
      "怀柔区 2015-02-15\n",
      "怀柔区 2015-02-16\n",
      "怀柔区 2015-02-17\n",
      "怀柔区 2015-02-18\n",
      "怀柔区 2015-02-19\n",
      "怀柔区 2015-02-20\n",
      "怀柔区 2015-02-21\n",
      "怀柔区 2015-02-22\n",
      "怀柔区 2015-02-23\n",
      "怀柔区 2015-02-24\n",
      "怀柔区 2015-02-25\n",
      "怀柔区 2015-02-26\n",
      "怀柔区 2015-02-27\n",
      "怀柔区 2015-02-28\n",
      "怀柔区 2015-03-01\n",
      "怀柔区 2015-03-02\n",
      "怀柔区 2015-03-03\n",
      "怀柔区 2015-03-04\n"
     ]
    }
   ],
   "source": [
    "spatial_partition(purchase, cart, categories, areas, dates)"
   ]
  },
  {
   "cell_type": "code",
   "execution_count": null,
   "metadata": {},
   "outputs": [],
   "source": []
  }
 ],
 "metadata": {
  "kernelspec": {
   "display_name": "Python 3",
   "language": "python",
   "name": "python3"
  },
  "language_info": {
   "codemirror_mode": {
    "name": "ipython",
    "version": 3
   },
   "file_extension": ".py",
   "mimetype": "text/x-python",
   "name": "python",
   "nbconvert_exporter": "python",
   "pygments_lexer": "ipython3",
   "version": "3.7.2"
  }
 },
 "nbformat": 4,
 "nbformat_minor": 2
}
