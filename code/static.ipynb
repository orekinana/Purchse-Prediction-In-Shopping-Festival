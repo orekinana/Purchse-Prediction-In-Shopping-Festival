{
 "cells": [
  {
   "cell_type": "code",
   "execution_count": 63,
   "metadata": {},
   "outputs": [],
   "source": [
    "import numpy as np\n",
    "import pandas as pd\n",
    "import datetime\n",
    "import time\n",
    "import json"
   ]
  },
  {
   "cell_type": "code",
   "execution_count": 36,
   "metadata": {},
   "outputs": [],
   "source": [
    "data_dir = '../data/spatial/static/'\n",
    "begin_date, end_date = '2015-01-01', '2019-12-18'\n",
    "begin_year, end_year = 2015, 2020\n",
    "regions = ['怀柔区', '大兴区', '昌平区', '通州区', '石景山区', '延庆区', '顺义区', '西城区', '平谷区', '宣武区', '东城区', '丰台区', '朝阳区', '门头沟', '崇文区', '房山区', '密云区', '海淀区']"
   ]
  },
  {
   "cell_type": "code",
   "execution_count": 21,
   "metadata": {},
   "outputs": [],
   "source": [
    "# festival feature\n",
    "data = pd.read_csv(data_dir + 'dayfea.txt')\n",
    "data['date'] = data['date'].apply(lambda x: x.split()[0])\n",
    "data = data[(data['date'] >= begin_date) & (data['date'] <= end_date)]\n",
    "data = data.drop(['date'], axis=1)\n",
    "data = np.array(data)\n",
    "np.save(data_dir + 'festival_feature.npy', data)"
   ]
  },
  {
   "cell_type": "code",
   "execution_count": 70,
   "metadata": {},
   "outputs": [],
   "source": [
    "# POIs \n",
    "\n",
    "data_old = pd.read_csv(data_dir + 'POI初始版.csv', sep = '\\t')\n",
    "data_old = data_old.drop(['所属城市'], axis=1)\n",
    "poi_list = data_old.groupby('百度一级行业分类').nunique()\n",
    "poi_list = list(set(poi_list['百度一级行业分类'].index.tolist()))\n",
    "old = {}\n",
    "for region in regions:\n",
    "    old_temp = []\n",
    "    for poi in poi_list:\n",
    "        entry = data_old[(data_old['所属区县'] == region) & (data_old['百度一级行业分类'] == poi)]['数量']\n",
    "        if len(entry) == 0:\n",
    "            old_temp.append(0)\n",
    "        else:\n",
    "            old_temp.append(int(entry))\n",
    "    old[region] = old_temp\n",
    "with open(data_dir + 'old_poi.json',\"w\") as f:\n",
    "    json.dump(old,f)\n",
    "    \n",
    "data_new = pd.read_csv(data_dir + 'POI初始版.csv', sep = '\\t')\n",
    "data_new = data_new.drop(['所属城市'], axis=1)\n",
    "new = {}\n",
    "for region in regions:\n",
    "    new_temp = []\n",
    "    for poi in poi_list:\n",
    "        entry = data_new[(data_old['所属区县'] == region) & (data_new['百度一级行业分类'] == poi)]['数量']\n",
    "        if len(entry) == 0:\n",
    "            new_temp.append(0)\n",
    "        else:\n",
    "            new_temp.append(int(entry))\n",
    "    new[region] = new_temp\n",
    "with open(data_dir + 'new_poi.json',\"w\") as f:\n",
    "    json.dump(new,f)"
   ]
  },
  {
   "cell_type": "code",
   "execution_count": 114,
   "metadata": {},
   "outputs": [
    {
     "name": "stdout",
     "output_type": "stream",
     "text": [
      "90\n"
     ]
    }
   ],
   "source": [
    "# User portrait\n",
    "\n",
    "data = pd.read_csv(data_dir + '用户画像_年.csv', sep = '\\t', error_bad_lines=False)\n",
    "data = data.drop(['区', '省'], axis=1).groupby(['日期', '市']).sum().reset_index()\n",
    "print(len(data))\n",
    "data_dict = {}\n",
    "for i in range(len(data)):\n",
    "    year = data.iloc[i]['日期']\n",
    "    region = data.iloc[i]['市']\n",
    "    data_dict[str(year) + region] = list(data.iloc[i][2:].apply(lambda x: x.astype(np.int32)))\n",
    "with open(data_dir + 'user_portrait.json',\"w\") as f:\n",
    "    json.dump(data_dict,f)"
   ]
  },
  {
   "cell_type": "code",
   "execution_count": null,
   "metadata": {},
   "outputs": [],
   "source": []
  }
 ],
 "metadata": {
  "kernelspec": {
   "display_name": "Python 3",
   "language": "python",
   "name": "python3"
  },
  "language_info": {
   "codemirror_mode": {
    "name": "ipython",
    "version": 3
   },
   "file_extension": ".py",
   "mimetype": "text/x-python",
   "name": "python",
   "nbconvert_exporter": "python",
   "pygments_lexer": "ipython3",
   "version": "3.7.2"
  }
 },
 "nbformat": 4,
 "nbformat_minor": 2
}
